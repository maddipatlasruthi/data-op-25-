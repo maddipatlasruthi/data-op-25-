{
  "nbformat": 4,
  "nbformat_minor": 0,
  "metadata": {
    "colab": {
      "provenance": [],
      "authorship_tag": "ABX9TyNU9dnrGaP0cBgOnSfKcB0h",
      "include_colab_link": true
    },
    "kernelspec": {
      "name": "python3",
      "display_name": "Python 3"
    },
    "language_info": {
      "name": "python"
    }
  },
  "cells": [
    {
      "cell_type": "markdown",
      "metadata": {
        "id": "view-in-github",
        "colab_type": "text"
      },
      "source": [
        "<a href=\"https://colab.research.google.com/github/maddipatlasruthi/data-op-25-/blob/main/test1lab.ipynb\" target=\"_parent\"><img src=\"https://colab.research.google.com/assets/colab-badge.svg\" alt=\"Open In Colab\"/></a>"
      ]
    },
    {
      "cell_type": "code",
      "execution_count": 1,
      "metadata": {
        "colab": {
          "base_uri": "https://localhost:8080/"
        },
        "id": "dyxjAKs57fCm",
        "outputId": "8682b9db-cc0f-4f5d-cb06-a6d6f191f3c0"
      },
      "outputs": [
        {
          "output_type": "stream",
          "name": "stdout",
          "text": [
            "Number of unique job roles: 5\n",
            "Duplicate Employee Entries:\n",
            "    Employee_Name  Employee_ID        Job_Role  Phone_Number  \\\n",
            "6   Michael Jones         3654         Manager  8.045243e+09   \n",
            "16    Laura Jones         5596         Analyst  6.650995e+09   \n",
            "50     John Jones         1442  Data Scientist  3.139018e+09   \n",
            "56            NaN         3654       Developer  5.844402e+09   \n",
            "72    Jane Wilson         5596         Manager  9.602139e+09   \n",
            "98    Sarah Smith         1442         Analyst  3.294945e+09   \n",
            "\n",
            "                        Email_ID  Total_Work_Hour_per_Month  Salary_per_Month  \n",
            "6     laura.williams@example.com                      160.0           11200.0  \n",
            "16     john.williams@example.com                      200.0           10000.0  \n",
            "50     laura.williams@sample.org                      160.0            8000.0  \n",
            "56          laura.brown@test.net                      -10.0          100000.0  \n",
            "72          jane.miller@test.net                      200.0           12000.0  \n",
            "98  jessica.anderson@example.com                      -10.0           -5000.0  \n",
            "Employees with negative salaries:\n",
            "      Employee_Name  Employee_ID        Job_Role  Phone_Number  \\\n",
            "2    Sarah Anderson         2353       Developer  9.463822e+09   \n",
            "8               NaN         5890       Developer  3.155312e+09   \n",
            "12      Laura Davis         6915        Engineer  9.849898e+09   \n",
            "14   Michael Miller         1634  Data Scientist  2.416309e+09   \n",
            "17     John Johnson         8521         Analyst  8.917196e+09   \n",
            "20      Laura Davis         8202             NaN  5.790057e+09   \n",
            "32              NaN         1603        Engineer  4.795532e+09   \n",
            "38     Emily Wilson         9713         Manager  7.156704e+09   \n",
            "41    Jane Williams         7226             NaN  5.351126e+09   \n",
            "48      Chris Jones         9320  Data Scientist  2.767192e+09   \n",
            "60       Jane Jones         6742  Data Scientist  8.355664e+09   \n",
            "62      David Brown         5344  Data Scientist  2.606042e+09   \n",
            "64   Jessica Wilson         6131       Developer  1.805531e+09   \n",
            "70  Michael Johnson         5045         Analyst  8.703092e+09   \n",
            "71    Jane Anderson         8889         Manager  7.736842e+09   \n",
            "81    Jessica Brown         8979        Engineer  3.949648e+09   \n",
            "87    Sarah Johnson         3476             NaN           NaN   \n",
            "89       Jane Jones         7778  Data Scientist           NaN   \n",
            "93    Laura Johnson         2658        Engineer  2.847548e+09   \n",
            "98      Sarah Smith         1442         Analyst  3.294945e+09   \n",
            "\n",
            "                        Email_ID  Total_Work_Hour_per_Month  Salary_per_Month  \n",
            "2        sarah.wilson@sample.org                     9999.0           -5000.0  \n",
            "8         jane.williams@test.net                     9999.0           -5000.0  \n",
            "12       sarah.brown@example.com                        NaN           -5000.0  \n",
            "14        emily.johnson@test.net                     9999.0           -5000.0  \n",
            "17    jessica.miller@example.com                        NaN           -5000.0  \n",
            "20                           NaN                     9999.0           -5000.0  \n",
            "32          emily.jones@test.net                     9999.0           -5000.0  \n",
            "38        jessica.smith@test.net                      -10.0           -5000.0  \n",
            "41        david.johnson@test.net                     9999.0           -5000.0  \n",
            "48       laura.taylor@sample.org                      -10.0           -5000.0  \n",
            "60       james.wilson@sample.org                      -10.0           -5000.0  \n",
            "62                           NaN                     9999.0           -5000.0  \n",
            "64           john.davis@test.net                        NaN           -5000.0  \n",
            "70    michael.miller@example.com                     9999.0           -5000.0  \n",
            "71     michael.smith@example.com                     9999.0           -5000.0  \n",
            "81     sarah.johnson@example.com                      -10.0           -5000.0  \n",
            "87     jessica.wilson@sample.org                     9999.0           -5000.0  \n",
            "89       sarah.brown@example.com                     9999.0           -5000.0  \n",
            "93      james.wilson@example.com                      -10.0           -5000.0  \n",
            "98  jessica.anderson@example.com                      -10.0           -5000.0  \n",
            "Standardized Phone Numbers:\n",
            "0     38018808700\n",
            "1     79047524280\n",
            "2     94638223300\n",
            "3     87276281480\n",
            "4      7750284090\n",
            "         ...     \n",
            "95    44638835620\n",
            "96    74550090980\n",
            "97     4515525620\n",
            "98    32949454000\n",
            "99    94256222840\n",
            "Name: Phone_Number, Length: 100, dtype: object\n",
            "Hourly Wage Column:\n",
            "    Employee_ID  Hourly_Wage\n",
            "0          8797          NaN\n",
            "1          6540     70.00000\n",
            "2          2353     -0.50005\n",
            "3          6392     50.00000\n",
            "4          1653          NaN\n",
            "..          ...          ...\n",
            "95         5111 -10000.00000\n",
            "96         7388          NaN\n",
            "97         3773          NaN\n",
            "98         1442    500.00000\n",
            "99         3490          NaN\n",
            "\n",
            "[100 rows x 2 columns]\n"
          ]
        }
      ],
      "source": [
        "import pandas as pd\n",
        "\n",
        "# Load the dataset (replace 'Even.xlsx' with your actual file path)\n",
        "file_path = 'Even.xlsx'\n",
        "df = pd.read_excel(file_path, sheet_name='messy_2_employee_data')\n",
        "\n",
        "# 1. Count unique job roles\n",
        "unique_job_roles = df['Job_Role'].nunique()\n",
        "print(f\"Number of unique job roles: {unique_job_roles}\")\n",
        "\n",
        "# 2. Check for duplicate employee entries based on Employee_ID\n",
        "duplicate_employees = df[df.duplicated(subset=['Employee_ID'], keep=False)]\n",
        "print(f\"Duplicate Employee Entries:\\n{duplicate_employees}\")\n",
        "\n",
        "# 3. Identify rows with negative salaries\n",
        "negative_salaries = df[df['Salary_per_Month'] < 0]\n",
        "print(f\"Employees with negative salaries:\\n{negative_salaries}\")\n",
        "\n",
        "# 4. Standardizing phone numbers\n",
        "# Removing non-numeric characters and formatting phone numbers\n",
        "df['Phone_Number'] = df['Phone_Number'].astype(str).str.replace(r'\\D', '', regex=True)\n",
        "print(f\"Standardized Phone Numbers:\\n{df['Phone_Number']}\")\n",
        "\n",
        "# 5. Compute hourly wage (Salary_per_Month / Total_Work_Hour_per_Month)\n",
        "df['Hourly_Wage'] = df['Salary_per_Month'] / df['Total_Work_Hour_per_Month']\n",
        "print(f\"Hourly Wage Column:\\n{df[['Employee_ID', 'Hourly_Wage']]}\")\n",
        "\n",
        "# Save the cleaned dataset (optional)\n",
        "df.to_excel('Cleaned_Even.xlsx', index=False)"
      ]
    }
  ]
}